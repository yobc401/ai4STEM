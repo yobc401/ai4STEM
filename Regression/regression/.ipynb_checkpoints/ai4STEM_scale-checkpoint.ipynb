{
 "cells": [
  {
   "cell_type": "markdown",
   "metadata": {},
   "source": [
    "# Linear regression for lattice parameters from STEM-HAADF images"
   ]
  },
  {
   "cell_type": "markdown",
   "metadata": {},
   "source": [
    "Author: Byung Chul Yeo"
   ]
  },
  {
   "cell_type": "code",
   "execution_count": null,
   "metadata": {},
   "outputs": [],
   "source": []
  },
  {
   "cell_type": "code",
   "execution_count": 1,
   "metadata": {},
   "outputs": [],
   "source": [
    "import matplotlib.pyplot as plt\n",
    "import numpy as np\n",
    "import math\n"
   ]
  },
  {
   "cell_type": "code",
   "execution_count": 2,
   "metadata": {},
   "outputs": [],
   "source": [
    "from sklearn.svm import SVR\n",
    "from sklearn.metrics import mean_squared_error\n"
   ]
  },
  {
   "cell_type": "code",
   "execution_count": 3,
   "metadata": {},
   "outputs": [],
   "source": [
    "with open('newlist_fcc111.txt', 'r') as f:\n",
    "    matrix = [[float(num) for num in line.split(' ')] for line in f]\n"
   ]
  },
  {
   "cell_type": "code",
   "execution_count": 4,
   "metadata": {},
   "outputs": [],
   "source": [
    "with open('scale_value.txt', 'r') as f:\n",
    "    value = [float(line) for line in f]\n"
   ]
  },
  {
   "cell_type": "code",
   "execution_count": 5,
   "metadata": {},
   "outputs": [],
   "source": [
    "matrix = np.array(matrix)\n",
    "X = np.array(matrix[:,0])\n",
    "X = np.reshape(X,(X.shape[0],1))\n",
    "y = np.array(matrix[:,1])\n",
    "y = y.transpose()\n"
   ]
  },
  {
   "cell_type": "code",
   "execution_count": 6,
   "metadata": {},
   "outputs": [
    {
     "name": "stdout",
     "output_type": "stream",
     "text": [
      "(2280, 1)\n",
      "(2280,)\n"
     ]
    }
   ],
   "source": [
    "print(X.shape)\n",
    "print(y.shape)\n"
   ]
  },
  {
   "cell_type": "code",
   "execution_count": 7,
   "metadata": {},
   "outputs": [
    {
     "name": "stdout",
     "output_type": "stream",
     "text": [
      "SVR(C=1.0, cache_size=200, coef0=0.0, degree=3, epsilon=0.1, gamma='scale',\n",
      "    kernel='linear', max_iter=-1, shrinking=True, tol=0.001, verbose=False)\n"
     ]
    }
   ],
   "source": [
    "regressor = SVR(kernel='linear')#, C=100, gamma='auto')\n",
    "regressor.fit(X,y)\n",
    "print(regressor)\n"
   ]
  },
  {
   "cell_type": "code",
   "execution_count": 8,
   "metadata": {},
   "outputs": [
    {
     "name": "stdout",
     "output_type": "stream",
     "text": [
      "2.6636789474115954\n",
      "2.915936580986515\n",
      "2.438052860804884\n",
      "2.6636789474115954\n",
      "2.6636789474115954\n",
      "2.6636789474115954\n",
      "2.915936580986515\n",
      "2.037718992566943\n",
      "2.915936580986515\n",
      "2.6636789474115954\n",
      "2.6636789474115954\n",
      "2.6636789474115954\n",
      "2.2495522369027334\n",
      "2.496883035150418\n",
      "2.6636789474115954\n",
      "2.6636789474115954\n",
      "2.915936580986515\n",
      "2.037718992566943\n",
      "2.6636789474115954\n",
      "2.6636789474115954\n",
      "2.6636789474115954\n",
      "2.6636789474115954\n",
      "2.037718992566943\n",
      "2.915936580986515\n",
      "2.6636789474115954\n"
     ]
    }
   ],
   "source": [
    "for x in range(len(value)):\n",
    "    y_pred = regressor.predict([[value[x]]])\n",
    "\n",
    "    print(y_pred[0])\n"
   ]
  },
  {
   "cell_type": "code",
   "execution_count": 9,
   "metadata": {},
   "outputs": [
    {
     "data": {
      "image/png": "[encoded data removed]",
      "text/plain": [
       "<Figure size 432x288 with 1 Axes>"
      ]
     },
     "metadata": {
      "needs_background": "light"
     },
     "output_type": "display_data"
    },
    {
     "data": {
      "text/plain": [
       "<Figure size 432x288 with 0 Axes>"
      ]
     },
     "metadata": {},
     "output_type": "display_data"
    }
   ],
   "source": [
    "plt.scatter(X, y, color = 'magenta')\n",
    "plt.plot(X, regressor.predict(X), color = 'green')\n",
    "plt.title('Scaling (Support Vector Regression Model with Linear kenel)')\n",
    "#plt.xlabel('Position level')\n",
    "#plt.ylabel('Salary')\n",
    "#plt.show()\n",
    "plt.xlabel('Descriptor (Angstrom)')\n",
    "plt.ylabel('Lattice constant (Angstrom)')\n",
    "plt.show()\n",
    "#plt.axis('off')\n",
    "plt.savefig(\"svr_model_scale.png\",bbox_inches='tight',pad_inches=0,dpi=500)\n",
    "plt.clf()\n"
   ]
  },
  {
   "cell_type": "code",
   "execution_count": 10,
   "metadata": {},
   "outputs": [
    {
     "name": "stdout",
     "output_type": "stream",
     "text": [
      "Mean Squared Error: 0.030608852567879534\n",
      "Root Mean Squared Error: 0.17495385839666278\n"
     ]
    }
   ],
   "source": [
    "mse=mean_squared_error(y, regressor.predict(X))\n",
    "print(\"Mean Squared Error:\",mse)\n",
    "\n",
    "rmse = math.sqrt(mse)\n",
    "print(\"Root Mean Squared Error:\", rmse)\n"
   ]
  },
  {
   "cell_type": "code",
   "execution_count": null,
   "metadata": {},
   "outputs": [],
   "source": []
  }
 ],
 "metadata": {
  "kernelspec": {
   "display_name": "Python 3",
   "language": "python",
   "name": "python3"
  },
  "language_info": {
   "codemirror_mode": {
    "name": "ipython",
    "version": 3
   },
   "file_extension": ".py",
   "mimetype": "text/x-python",
   "name": "python",
   "nbconvert_exporter": "python",
   "pygments_lexer": "ipython3",
   "version": "3.6.8"
  }
 },
 "nbformat": 4,
 "nbformat_minor": 2
}
